import os
import json
import pandas as pd
import psycopg2
#aggregated_insurance
path1="C:/Users/ADMIN/Desktop/dt15dt16/test/phonepe/pulse/data/aggregated/insurance/country/india/state/"
agg_insur_list=os.listdir(path1)

columns1={"States":[], "Year":[], "Quarter":[], "Transaction_Type":[], "Transaction_Count":[], "Transaction_Amount":[]}

for state in agg_insur_list:
    current_states=path1+state+"/"
    agg_year_list=os.listdir(current_states)
    
    for year in agg_year_list:
        current_year=current_states+year+"/"
        agg_file_list=os.listdir(current_year)

        for file in agg_file_list:
            current_file=current_year+file
            data=open(current_file,"r")

            A=json.load(data)
           
            for i in A["data"]["transactionData"]:
                name=i["name"]
                count=i["paymentInstruments"][0]["count"]
                amount=i["paymentInstruments"][0]["amount"]
                columns1["Transaction_Type"].append(name)
                columns1["Transaction_Count"].append(count)
                columns1["Transaction_Amount"].append(amount)
                columns1["States"].append(state)
                columns1["Year"].append(year)  
                columns1["Quarter"].append(int(file.strip(".json")))

aggre_insurance=pd.DataFrame(columns1)
aggre_insurance["States"]=aggre_insurance["States"].str.replace("andaman-&-nicobar-islands","Andaman & Nicobar")
aggre_insurance["States"]=aggre_insurance["States"].str.replace("-"," ")
aggre_insurance["States"]=aggre_insurance["States"].str.title()
aggre_insurance["States"]=aggre_insurance["States"].str.replace("dadra-&-nagar-haveli-&-daman-&-diu","Dadra Nagar Haveli and Daman and Diu")
#aggregated_transaction

path2="C:/Users/ADMIN/Desktop/dt15dt16/test/phonepe/pulse/data/aggregated/transaction/country/india/state/"
agg_tran_list=os.listdir(path2)

columns2={"States":[], "Year":[], "Quarter":[], "Transaction_Type":[], "Transaction_Count":[], "Transaction_Amount":[]}

for state in agg_tran_list:
    current_states=path2+state+"/"
    agg_year_list=os.listdir(current_states)
    
    for year in agg_year_list:
        current_year=current_states+year+"/"
        agg_file_list=os.listdir(current_year)

        for file in agg_file_list:
            current_file=current_year+file
            data=open(current_file,"r")

            B=json.load(data)

            for i in B["data"]["transactionData"]:
                name=i["name"]
                count=i["paymentInstruments"][0]["count"]
                amount=i["paymentInstruments"][0]["amount"]
                columns2["Transaction_Type"].append(name)
                columns2["Transaction_Count"].append(count)
                columns2["Transaction_Amount"].append(amount)
                columns2["States"].append(state)
                columns2["Year"].append(year)  
                columns2["Quarter"].append(int(file.strip(".json"))) 
                
aggre_transaction=pd.DataFrame(columns2)
aggre_transaction["States"]=aggre_transaction["States"].str.replace("andaman-&-nicobar-islands","Andaman & Nicobar")
aggre_transaction["States"]=aggre_transaction["States"].str.replace("-"," ")
aggre_transaction["States"]=aggre_transaction["States"].str.title()
aggre_transaction["States"]=aggre_transaction["States"].str.replace("dadra-&-nagar-haveli-&-daman-&-diu","Dadra Nagar Haveli and Daman and Diu")
#aggregated_user
path3="C:/Users/ADMIN/Desktop/dt15dt16/test/phonepe/pulse/data/aggregated/user/country/india/state/"
agg_user_list=os.listdir(path3)

columns3={"States":[], "Year":[], "Quarter":[], "Brands":[], "Transaction_Count":[], "Transaction_Percent":[]}

for state in agg_user_list:
    current_states=path3+state+"/"
    agg_year_list=os.listdir(current_states)
 
    for year in agg_year_list:
        current_year=current_states+year+"/"
        agg_file_list=os.listdir(current_year)

        for file in agg_file_list:
            current_file=current_year+file
            data=open(current_file,"r")

            C=json.load(data)
            
            try:
                for i in C["data"]["usersByDevice"]:
                    brand=i["brand"]
                    count=i["count"]
                    percentage=i["percentage"]
                    columns3["Brands"].append(brand)
                    columns3["Transaction_Count"].append(count)
                    columns3["Transaction_Percent"].append(percentage)
                    columns3["States"].append(state)
                    columns3["Year"].append(year)  
                    columns3["Quarter"].append(int(file.strip(".json"))) 
            except:
                pass
            
aggre_user=pd.DataFrame(columns3)
aggre_user["States"]=aggre_user["States"].str.replace("andaman-&-nicobar-islands","Andaman & Nicobar")
aggre_user["States"]=aggre_user["States"].str.replace("-"," ")
aggre_user["States"]=aggre_user["States"].str.title()
aggre_user["States"]=aggre_user["States"].str.replace("dadra-&-nagar-haveli-&-daman-&-diu","Dadra Nagar Haveli and Daman and Diu")
#map insurance
path4="C:/Users/ADMIN/Desktop/dt15dt16/test/phonepe/pulse/data/map/insurance/hover/country/india/state/"
map_insur_list=os.listdir(path4)

columns4={"States":[], "Year":[], "Quarter":[], "Districts":[], "Transaction_Count":[], "Transaction_Amount":[]}

for state in map_insur_list:
    current_states=path4+state+"/"
    map_year_list=os.listdir(current_states)
 
    for year in map_year_list:
        current_year=current_states+year+"/"
        map_file_list=os.listdir(current_year)

        for file in map_file_list:
            current_file=current_year+file
            data=open(current_file,"r")

            D=json.load(data)
            #print(D)

            for i in D["data"]["hoverDataList"]:
                name=i["name"]
                count=i["metric"][0]["count"]
                amount=i["metric"][0]["amount"]
                columns4["Districts"].append(name)
                columns4["Transaction_Count"].append(count)
                columns4["Transaction_Amount"].append(amount)
                columns4["States"].append(state)
                columns4["Year"].append(year)  
                columns4["Quarter"].append(int(file.strip(".json"))) 

map_insurance=pd.DataFrame(columns4)
map_insurance["States"]=map_insurance["States"].str.replace("andaman-&-nicobar-islands","Andaman & Nicobar")
map_insurance["States"]=map_insurance["States"].str.replace("-"," ")
map_insurance["States"]=map_insurance["States"].str.title()
map_insurance["States"]=map_insurance["States"].str.replace("dadra-&-nagar-haveli-&-daman-&-diu","Dadra Nagar Haveli and Daman and Diu")
#map_transaction
path5="C:/Users/ADMIN/Desktop/dt15dt16/test/phonepe/pulse/data/map/transaction/hover/country/india/state/"
map_trans_list=os.listdir(path5)

columns5={"States":[], "Year":[], "Quarter":[], "Districts":[], "Transaction_Count":[], "Transaction_Amount":[]}

for state in map_trans_list:
    current_states=path5+state+"/"
    map_year_list=os.listdir(current_states)
 
    for year in map_year_list:
        current_year=current_states+year+"/"
        map_file_list=os.listdir(current_year)

        for file in map_file_list:
            current_file=current_year+file
            data=open(current_file,"r")

            E=json.load(data)
      
            for i in E["data"]["hoverDataList"]:
                    name=i["name"]
                    count=i["metric"][0]["count"]
                    amount=i["metric"][0]["amount"]
                    columns5["Districts"].append(name)
                    columns5["Transaction_Count"].append(count)
                    columns5["Transaction_Amount"].append(amount)
                    columns5["States"].append(state)
                    columns5["Year"].append(year)  
                    columns5["Quarter"].append(int(file.strip(".json"))) 

map_transaction=pd.DataFrame(columns5)
map_transaction["States"]=map_transaction["States"].str.replace("andaman-&-nicobar-islands","Andaman & Nicobar")
map_transaction["States"]=map_transaction["States"].str.replace("-"," ")
map_transaction["States"]=map_transaction["States"].str.title()
map_transaction["States"]=map_transaction["States"].str.replace("dadra-&-nagar-haveli-&-daman-&-diu","Dadra Nagar Haveli and Daman and Diu")

map_transaction.columns
#map_user
path6="C:/Users/ADMIN/Desktop/dt15dt16/test/phonepe/pulse/data/map/user/hover/country/india/state/"
map_user_list=os.listdir(path6)

columns6={"States":[], "Year":[], "Quarter":[], "Districts":[], "Registered_User":[], "Appopens":[]}

for state in map_user_list:
    current_states=path6+state+"/"
    map_year_list=os.listdir(current_states)
 
    for year in map_year_list:
        current_year=current_states+year+"/"
        map_file_list=os.listdir(current_year)

        for file in map_file_list:
            current_file=current_year+file
            data=open(current_file,"r")

            F=json.load(data)
            
            for i in F["data"]["hoverData"].items():
                district=i[0]
                registered_user=i[1]["registeredUsers"]
                app_opens=i[1]["appOpens"]
                columns6["Districts"].append(district)
                columns6["Registered_User"].append(registered_user)
                columns6["Appopens"].append(app_opens)
                columns6["States"].append(state)
                columns6["Year"].append(year)  
                columns6["Quarter"].append(int(file.strip(".json"))) 

map_user=pd.DataFrame(columns6)
map_user["States"]=map_user["States"].str.replace("andaman-&-nicobar-islands","Andaman & Nicobar")
map_user["States"]=map_user["States"].str.replace("-"," ")
map_user["States"]=map_user["States"].str.title()
map_user["States"]=map_user["States"].str.replace("dadra-&-nagar-haveli-&-daman-&-diu","Dadra Nagar Haveli and Daman and Diu")
#top_insurance
path7="C:/Users/ADMIN/Desktop/dt15dt16/test/phonepe/pulse/data/top/insurance/country/india/state/"
top_insur_list=os.listdir(path7)

columns7={"States":[], "Year":[], "Quarter":[], "Pincodes":[], "Transaction_Count":[], "Transaction_Amount":[]}

for state in top_insur_list:
    current_states=path7+state+"/"
    top_year_list=os.listdir(current_states)
 
    for year in top_year_list:
        current_year=current_states+year+"/"
        top_file_list=os.listdir(current_year)

        for file in top_file_list:
            current_file=current_year+file
            data=open(current_file,"r")

            G=json.load(data)

            for i in G["data"]["pincodes"]:
                    name=i["entityName"]
                    count=i["metric"]["count"]
                    amount=i["metric"]["amount"]
                    columns7["Pincodes"].append(name)
                    columns7["Transaction_Count"].append(count)
                    columns7["Transaction_Amount"].append(amount)
                    columns7["States"].append(state)
                    columns7["Year"].append(year)  
                    columns7["Quarter"].append(int(file.strip(".json"))) 

top_insurance=pd.DataFrame(columns7)     
top_insurance["States"]=top_insurance["States"].str.replace("andaman-&-nicobar-islands","Andaman & Nicobar")
top_insurance["States"]=top_insurance["States"].str.replace("-"," ")
top_insurance["States"]=top_insurance["States"].str.title()
top_insurance["States"]=top_insurance["States"].str.replace("dadra-&-nagar-haveli-&-daman-&-diu","Dadra Nagar Haveli and Daman and Diu")

#top_transaction
path8="C:/Users/ADMIN/Desktop/dt15dt16/test/phonepe/pulse/data/top/transaction/country/india/state/"
top_trans_list=os.listdir(path8)

columns8={"States":[], "Year":[], "Quarter":[], "Pincodes":[], "Transaction_Count":[], "Transaction_Amount":[]}

for state in top_trans_list:
    current_states=path8+state+"/"
    top_year_list=os.listdir(current_states)
 
    for year in top_year_list:
        current_year=current_states+year+"/"
        top_file_list=os.listdir(current_year)

        for file in top_file_list:
            current_file=current_year+file
            data=open(current_file,"r")

            H=json.load(data)

            for i in H["data"]["pincodes"]:
                name=i["entityName"]
                count=i["metric"]["count"]
                amount=i["metric"]["amount"]
                columns8["Pincodes"].append(name)
                columns8["Transaction_Count"].append(count)
                columns8["Transaction_Amount"].append(amount)
                columns8["States"].append(state)
                columns8["Year"].append(year)  
                columns8["Quarter"].append(int(file.strip(".json"))) 

top_transaction=pd.DataFrame(columns8)  
top_transaction["States"]=top_transaction["States"].str.replace("andaman-&-nicobar-islands","Andaman & Nicobar")
top_transaction["States"]=top_transaction["States"].str.replace("-"," ")
top_transaction["States"]=top_transaction["States"].str.title()
top_transaction["States"]=top_transaction["States"].str.replace("dadra-&-nagar-haveli-&-daman-&-diu","Dadra Nagar Haveli and Daman and Diu")
#top user
path9="C:/Users/ADMIN/Desktop/dt15dt16/test/phonepe/pulse/data/top/user/country/india/state/"
top_user_list=os.listdir(path9)

columns9={"States":[], "Year":[], "Quarter":[], "Pincodes":[], "Registered_User":[]}

for state in top_user_list:
    current_states=path9+state+"/"
    top_year_list=os.listdir(current_states)
 
    for year in top_year_list:
        current_year=current_states+year+"/"
        top_file_list=os.listdir(current_year)

        for file in top_file_list:
            current_file=current_year+file
            data=open(current_file,"r")

            I=json.load(data)

            for i in I["data"]["pincodes"]:
                name=i["name"]
                registereduser=i["registeredUsers"]
                columns9["Pincodes"].append(name)
                columns9["Registered_User"].append(registereduser)
                columns9["States"].append(state)
                columns9["Year"].append(year)  
                columns9["Quarter"].append(int(file.strip(".json"))) 

top_user=pd.DataFrame(columns9)  
top_user["States"]=top_user["States"].str.replace("andaman-&-nicobar-islands","Andaman & Nicobar")
top_user["States"]=top_user["States"].str.replace("-"," ")
top_user["States"]=top_user["States"].str.title()
top_user["States"]=top_user["States"].str.replace("dadra-&-nagar-haveli-&-daman-&-diu","Dadra Nagar Haveli and Daman and Diu")
#Table Creation
mydb = psycopg2.connect(host="localhost",
                    user="postgres",
                    password="jainthiyuva",
                    database= "phonepe_data",
                    port=5432
                        )
mycursor = mydb.cursor()

#aggregated insurance_table
create_query_1='''CREATE TABLE if not exists aggregated_insurance(States varchar(255),
                                                    Year int,
                                                    Quarter int,
                                                    Transaction_Type varchar(255),
                                                    Transaction_Count bigint,
                                                    Transaction_Amount bigint)'''
mycursor.execute(create_query_1)
mydb.commit()

insert_query_1='''insert into aggregated_insurance(States,
                                                    Year,
                                                    Quarter,
                                                    Transaction_Type,
                                                    Transaction_Count,
                                                    Transaction_Amount)
                                                    
                                                    values(%s,%s,%s,%s,%s,%s)'''
data=aggre_insurance.values.tolist()
mycursor.executemany(insert_query_1,data)
mydb.commit()

#AGGREGATED TRANSACTION table
create_query_2='''CREATE TABLE if not exists aggregated_transaction(States varchar(255),
                                                    Year int,
                                                    Quarter int,
                                                    Transaction_Type varchar(255),
                                                    Transaction_Count bigint,
                                                    Transaction_Amount bigint)'''
mycursor.execute(create_query_2)
mydb.commit()

insert_query_2='''insert into aggregated_transaction(States,
                                                    Year,
                                                    Quarter,
                                                    Transaction_Type,
                                                    Transaction_Count,
                                                    Transaction_Amount)
                                                    
                                                    values(%s,%s,%s,%s,%s,%s)'''
data=aggre_transaction.values.tolist()
mycursor.executemany(insert_query_2,data)
mydb.commit()

#aggregated user table
create_query_3='''CREATE TABLE if not exists aggregated_user(States varchar(255),
                                                    Year int,
                                                    Quarter int,
                                                    Brands varchar(255),
                                                    Transaction_Count bigint,
                                                    Transaction_Percent float)'''
mycursor.execute(create_query_3)
mydb.commit()

insert_query_3='''insert into aggregated_user(States,
                                            Year,
                                            Quarter,
                                            Brands,
                                            Transaction_Count,
                                            Transaction_Percent)
                                            
                                            values(%s,%s,%s,%s,%s,%s)'''
data=aggre_user.values.tolist()
mycursor.executemany(insert_query_3,data)
mydb.commit()

#map insurance table
create_query_4='''CREATE TABLE if not exists map_insurance(States varchar(255),
                                                    Year int,
                                                    Quarter int,
                                                    Districts varchar(255),
                                                    Transaction_Count bigint,
                                                    Transaction_Percent bigint)'''
mycursor.execute(create_query_4)
mydb.commit()

insert_query_4='''insert into map_insurance(States,
                                            Year,
                                            Quarter,
                                            Districts,
                                            Transaction_Count,
                                            Transaction_Percent)
                                            
                                            values(%s,%s,%s,%s,%s,%s)'''
data=map_insurance.values.tolist()
mycursor.executemany(insert_query_4,data)
mydb.commit()

#map transaction table
create_query_5='''CREATE TABLE if not exists map_transaction(States varchar(255),
                                                    Year int,
                                                    Quarter int,
                                                    Districts varchar(255),
                                                    Transaction_Count bigint,
                                                    Transaction_Amount bigint)'''
mycursor.execute(create_query_5)
mydb.commit()

insert_query_5='''insert into map_transaction(States,
                                            Year,
                                            Quarter,
                                            Districts,
                                            Transaction_Count,
                                            Transaction_Amount)
                                            
                                            values(%s,%s,%s,%s,%s,%s)'''
data=map_transaction.values.tolist()
mycursor.executemany(insert_query_5,data)
mydb.commit()

#map user table
create_query_6='''CREATE TABLE if not exists map_user(States varchar(255),
                                                    Year int,
                                                    Quarter int,
                                                    Districts varchar(255),
                                                    Registered_User bigint,
                                                    Appopens bigint)'''
mycursor.execute(create_query_6)
mydb.commit()

insert_query_6='''insert into map_user(States,
                                            Year,
                                            Quarter,
                                            Districts,
                                            Registered_User,
                                            Appopens)
                                            
                                            values(%s,%s,%s,%s,%s,%s)'''
data=map_user.values.tolist()
mycursor.executemany(insert_query_6,data)
mydb.commit()

#top insurance table
create_query_7='''CREATE TABLE if not exists top_insurance(States varchar(255),
                                                    Year int,
                                                    Quarter int,
                                                    Pincodes int,
                                                    Transaction_Count bigint,
                                                    Transaction_Amount bigint)'''
mycursor.execute(create_query_7)
mydb.commit()

insert_query_7='''insert into top_insurance(States,
                                            Year,
                                            Quarter,
                                            Pincodes,
                                            Transaction_Count,
                                            Transaction_Amount)
                                            
                                            values(%s,%s,%s,%s,%s,%s)'''
data=top_insurance.values.tolist()
mycursor.executemany(insert_query_7,data)
mydb.commit()

#top transaction table
create_query_8='''CREATE TABLE if not exists top_transaction(States varchar(255),
                                                            Year int,
                                                            Quarter int,
                                                            Pincodes int,
                                                            Transaction_Count bigint,
                                                            Transaction_Amount bigint)'''
mycursor.execute(create_query_8)
mydb.commit()

insert_query_8='''insert into top_transaction(States,
                                            Year,
                                            Quarter,
                                            Pincodes,
                                            Transaction_Count,
                                            Transaction_Amount)
                                            
                                            values(%s,%s,%s,%s,%s,%s)'''
data=top_transaction.values.tolist()
mycursor.executemany(insert_query_8,data)
mydb.commit()

#top user table
create_query_9='''CREATE TABLE if not exists top_user(States varchar(255),
                                                            Year int,
                                                            Quarter int,
                                                            Pincodes int,
                                                            Registered_User bigint)'''    
mycursor.execute(create_query_9)
mydb.commit()

insert_query_9='''insert into top_user(States,
                                            Year,
                                            Quarter,
                                            Pincodes,
                                            Registered_User)
                                            
                                            values(%s,%s,%s,%s,%s)'''
data=top_user.values.tolist()
mycursor.executemany(insert_query_9,data)
mydb.commit()
